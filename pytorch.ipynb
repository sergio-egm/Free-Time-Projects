{
 "cells": [
  {
   "cell_type": "markdown",
   "id": "a6fd4ee0",
   "metadata": {},
   "source": [
    "# Introduction to PyTorch"
   ]
  },
  {
   "cell_type": "markdown",
   "id": "cd927dbb",
   "metadata": {},
   "source": [
    "Firsts tests to get used with `torch` library.\n",
    "\n",
    "https://docs.pytorch.org/tutorials/beginner/pytorch_with_examples.html"
   ]
  },
  {
   "cell_type": "code",
   "execution_count": null,
   "id": "04095850",
   "metadata": {},
   "outputs": [],
   "source": [
    "import torch\n",
    "import math\n",
    "import numpy as np"
   ]
  },
  {
   "cell_type": "markdown",
   "id": "ef1c3c4b",
   "metadata": {},
   "source": [
    "## Warm-up with Numpy"
   ]
  },
  {
   "cell_type": "code",
   "execution_count": 19,
   "id": "d2d04932",
   "metadata": {},
   "outputs": [
    {
     "name": "stdout",
     "output_type": "stream",
     "text": [
      " 100 : Loss = 1942.5981197543472\n",
      " 200 : Loss = 1357.8620988723726\n",
      " 300 : Loss = 950.6459714997519\n",
      " 400 : Loss = 666.8234472515073\n",
      " 500 : Loss = 468.84881983428795\n",
      " 600 : Loss = 330.65138961169055\n",
      " 700 : Loss = 234.11186628462443\n",
      " 800 : Loss = 166.62610469569785\n",
      " 900 : Loss = 119.4189117419541\n",
      "1000 : Loss = 86.37582610337255\n",
      "1100 : Loss = 63.23296761101651\n",
      "1200 : Loss = 47.01467134962145\n",
      "1300 : Loss = 35.642761530587755\n",
      "1400 : Loss = 27.664836288357098\n",
      "1500 : Loss = 22.065150545580426\n",
      "1600 : Loss = 18.132878187057905\n",
      "1700 : Loss = 15.370270373477139\n",
      "1800 : Loss = 13.428577985505335\n",
      "1900 : Loss = 12.06331164944789\n",
      "2000 : Loss = 11.10298121439451\n",
      " y = 0.0488 + 0.844 * x + -0.00842 * x**2 + -0.0916 * x**3\n"
     ]
    }
   ],
   "source": [
    "x = np.linspace(-math.pi , math.pi , 2000)\n",
    "y = np.sin(x)\n",
    "\n",
    "a,b,c,d = np.random.randn(4)\n",
    "\n",
    "learning_rate = 1e-6\n",
    "\n",
    "np.random.seed(0)\n",
    "\n",
    "for t in range(2000):\n",
    "    y_pred = a + b*x + c*(x**2) + d*(x**3)\n",
    "\n",
    "    loss = np.square(y-y_pred).sum()\n",
    "\n",
    "    if t%100 == 99:\n",
    "        print(f\"{t+1:4} : Loss = {loss}\")\n",
    "\n",
    "    grad_y_pred = 2.0 * (y_pred-y)\n",
    "    \n",
    "    grad_a = grad_y_pred.sum()\n",
    "    grad_b = (grad_y_pred * x).sum()\n",
    "    grad_c = (grad_y_pred * x**2).sum()\n",
    "    grad_d = (grad_y_pred * x**3).sum()\n",
    "\n",
    "\n",
    "    a -= learning_rate * grad_a\n",
    "    b -= learning_rate * grad_b\n",
    "    c -= learning_rate * grad_c\n",
    "    d -= learning_rate * grad_d\n",
    "\n",
    "\n",
    "print(f\" y = {a:2.3} + {b:2.3} * x + {c:2.3} * x**2 + {d:2.3} * x**3\")"
   ]
  },
  {
   "cell_type": "markdown",
   "id": "fd9b06a0",
   "metadata": {},
   "source": [
    "## Tensors"
   ]
  },
  {
   "cell_type": "code",
   "execution_count": null,
   "id": "5e29a8e4",
   "metadata": {},
   "outputs": [
    {
     "name": "stdout",
     "output_type": "stream",
     "text": [
      " 100 : Loss 3.2e+03\n",
      " 200 : Loss 2.2e+03\n",
      " 300 : Loss 1.6e+03\n",
      " 400 : Loss 1.1e+03\n",
      " 500 : Loss 7.6e+02\n",
      " 600 : Loss 5.3e+02\n",
      " 700 : Loss 3.7e+02\n",
      " 800 : Loss 2.6e+02\n",
      " 900 : Loss 1.8e+02\n",
      "1000 : Loss 1.3e+02\n",
      "1100 : Loss 9.4e+01\n",
      "1200 : Loss 6.9e+01\n",
      "1300 : Loss 5.1e+01\n",
      "1400 : Loss 3.8e+01\n",
      "1500 : Loss 2.9e+01\n",
      "1600 : Loss 2.3e+01\n",
      "1700 : Loss 1.9e+01\n",
      "1800 : Loss 1.6e+01\n",
      "1900 : Loss 1.4e+01\n",
      "2000 : Loss 1.2e+01\n",
      "y = 0.0586 + 0.837 * x + -0.0101 * x^2 + -0.0906 * x^3\n"
     ]
    }
   ],
   "source": [
    "torch.manual_seed(0)\n",
    "\n",
    "dtype  = torch.float\n",
    "device = torch.device(\"cpu\")\n",
    "\n",
    "x = torch.linspace(-math.pi , math.pi , 2000 , device=device , dtype=dtype)\n",
    "y = torch.sin(x)\n",
    "\n",
    "a,b,c,d = torch.randn(4 , device=device , dtype=dtype)\n",
    "\n",
    "learning_rate = 1e-6\n",
    "\n",
    "for t in range(2000):\n",
    "    y_pred = a + b*x + c*(x**2) + d*(x**3)\n",
    "\n",
    "    loss = (y_pred - y).pow(2).sum().item()\n",
    "\n",
    "    if t%100 == 99:\n",
    "        print(f\"{t+1:4} : Loss {loss:.2}\")\n",
    "\n",
    "    grad_y_pred = 2.0 * (y_pred-y)\n",
    "\n",
    "    grad_a = grad_y_pred.sum()\n",
    "    grad_b = (grad_y_pred * x).sum()\n",
    "    grad_c = (grad_y_pred * x**2).sum()\n",
    "    grad_d = (grad_y_pred * x**3).sum()\n",
    "\n",
    "\n",
    "    a -= grad_a*learning_rate\n",
    "    b -= grad_b*learning_rate\n",
    "    c -= grad_c*learning_rate\n",
    "    d -= grad_d*learning_rate\n",
    "\n",
    "\n",
    "\n",
    "\n",
    "print(f\"y = {a.item():2.3} + {b.item():2.3} * x + {c.item():2.3} * x^2 + {d.item():2.3} * x^3\")"
   ]
  },
  {
   "cell_type": "markdown",
   "id": "ca169fbf",
   "metadata": {},
   "source": [
    "## Autograd"
   ]
  },
  {
   "cell_type": "code",
   "execution_count": 48,
   "id": "8b557858",
   "metadata": {},
   "outputs": [
    {
     "name": "stdout",
     "output_type": "stream",
     "text": [
      "Using cpu device\n",
      " 100 : Loss 3.2e+03\n",
      " 200 : Loss 2.2e+03\n",
      " 300 : Loss 1.6e+03\n",
      " 400 : Loss 1.1e+03\n",
      " 500 : Loss 7.6e+02\n",
      " 600 : Loss 5.3e+02\n",
      " 700 : Loss 3.7e+02\n",
      " 800 : Loss 2.6e+02\n",
      " 900 : Loss 1.8e+02\n",
      "1000 : Loss 1.3e+02\n",
      "1100 : Loss 9.4e+01\n",
      "1200 : Loss 6.9e+01\n",
      "1300 : Loss 5.1e+01\n",
      "1400 : Loss 3.8e+01\n",
      "1500 : Loss 2.9e+01\n",
      "1600 : Loss 2.3e+01\n",
      "1700 : Loss 1.9e+01\n",
      "1800 : Loss 1.6e+01\n",
      "1900 : Loss 1.4e+01\n",
      "2000 : Loss 1.2e+01\n",
      "y = 0.0586 + 0.837 * x + -0.0101 * x^2 + -0.0906 * x^3\n"
     ]
    }
   ],
   "source": [
    "torch.manual_seed(0)\n",
    "\n",
    "dtype  = torch.float\n",
    "device = torch.accelerator.current_accelerator() if torch.accelerator.is_available() else \"cpu\"\n",
    "\n",
    "print(f\"Using {device} device\")\n",
    "\n",
    "torch.device(device)\n",
    "\n",
    "x = torch.linspace(-math.pi , math.pi , 2000 , dtype=dtype)\n",
    "y = torch.sin(x)\n",
    "\n",
    "a = torch.randn(() , dtype=dtype , requires_grad=True)\n",
    "b = torch.randn(() , dtype=dtype , requires_grad=True)\n",
    "c = torch.randn(() , dtype=dtype , requires_grad=True)\n",
    "d = torch.randn(() , dtype=dtype , requires_grad=True)\n",
    "\n",
    "learning_rate = 1e-6\n",
    "\n",
    "for t in range(2000):\n",
    "    y_pred = a + b*x + c*(x**2) + d*(x**3)\n",
    "\n",
    "    loss = (y_pred - y).pow(2).sum()\n",
    "\n",
    "    if t%100 == 99:\n",
    "        print(f\"{t+1:4} : Loss {loss.item():.2}\")\n",
    "\n",
    "    loss.backward()\n",
    "\n",
    "    with torch.no_grad():\n",
    "        a -= learning_rate*a.grad\n",
    "        b -= learning_rate*b.grad\n",
    "        c -= learning_rate*c.grad\n",
    "        d -= learning_rate*d.grad\n",
    "\n",
    "        a.grad = None\n",
    "        b.grad = None\n",
    "        c.grad = None\n",
    "        d.grad = None\n",
    "\n",
    "\n",
    "print(f\"y = {a.item():2.3} + {b.item():2.3} * x + {c.item():2.3} * x^2 + {d.item():2.3} * x^3\")"
   ]
  }
 ],
 "metadata": {
  "kernelspec": {
   "display_name": "Python 3",
   "language": "python",
   "name": "python3"
  },
  "language_info": {
   "codemirror_mode": {
    "name": "ipython",
    "version": 3
   },
   "file_extension": ".py",
   "mimetype": "text/x-python",
   "name": "python",
   "nbconvert_exporter": "python",
   "pygments_lexer": "ipython3",
   "version": "3.11.2"
  }
 },
 "nbformat": 4,
 "nbformat_minor": 5
}
